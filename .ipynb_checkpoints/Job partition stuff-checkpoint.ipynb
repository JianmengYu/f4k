{
 "cells": [
  {
   "cell_type": "code",
   "execution_count": 1,
   "metadata": {},
   "outputs": [
    {
     "name": "stdout",
     "output_type": "stream",
     "text": [
      "37,1,'NPP-3','3.6mm F1.8 1/3 inches CCD',0,5\n",
      "38,3,'NPP-3','3.6mm F1.8 1/3 inches CCD',0,5\n",
      "39,4,'NPP-3','3.6mm F1.8 1/3 inches CCD',0,5\n",
      "40,1,'HoBiHu','3.6mm F1.8 1/3 inches CCD',0,5\n",
      "41,2,'HoBiHu','3.6mm F1.8 1/3 inches CCD',0,5\n",
      "42,2,'NPP-3','3.6mm F1.8 1/3 inches CCD',0,5\n",
      "43,3,'HoBiHu','3.6mm F1.8 1/3 inches CCD',0,5\n",
      "44,1,'LanYu','3.6mm Iris:auto 1/3 inches CCD; white LED night sight',0,15\n",
      "46,2,'LanYu','3.6mm Iris:auto 1/3 inches CCD; white LED night sight',0,15\n"
     ]
    }
   ],
   "source": [
    "#!/afs/inf.ed.ac.uk/user/s14/s1413557/miniconda2/bin/python\n",
    "from __future__ import print_function\n",
    "from f4klib2 import *\n",
    "import seaborn as sns\n",
    "movs = loadMovids()\n",
    "movs_length = loadLengths()\n",
    "movs_all = np.hstack((movs,np.arange(len(movs_length)).reshape(-1,1),movs_length.reshape(-1,1)))\n",
    "ids, pickables = loadPickables(movs) #Movid having reference in F4K csv\n",
    "\n",
    "def getSubset(cam=None,year=None,month=None,day=None,hour=None):    \n",
    "    movs = loadMovids()\n",
    "    movs_length = loadLengths()\n",
    "    mask = np.array([True]*len(movs_length))\n",
    "    \n",
    "    if cam!=None:\n",
    "        mask[movs[:,1].astype(int)!=int(cam)] = False\n",
    "        \n",
    "    for i in range(len(movs_length)):\n",
    "        movid = movs[i][0]\n",
    "        y = int(movid[33:37])\n",
    "        m = int(movid[37:39])\n",
    "        d = int(movid[39:41])\n",
    "        h = int(movid[41:43])\n",
    "        \n",
    "        if year!=None:\n",
    "            if int(year)!=y:\n",
    "                mask[i]=False\n",
    "                continue\n",
    "                \n",
    "        if month!=None:\n",
    "            if int(month)!=m:\n",
    "                mask[i]=False\n",
    "                continue\n",
    "                \n",
    "        if day!=None:\n",
    "            if int(day)!=h:\n",
    "                mask[i]=False\n",
    "                continue\n",
    "                \n",
    "        if hour!=None:\n",
    "            if int(hour)!=h:\n",
    "                mask[i]=False\n",
    "                continue\n",
    "    \n",
    "    return mask\n",
    "\n",
    "printCameras()"
   ]
  },
  {
   "cell_type": "code",
   "execution_count": 2,
   "metadata": {},
   "outputs": [
    {
     "name": "stdout",
     "output_type": "stream",
     "text": [
      "Early Removal removes 9349 videos\n",
      "Early Removal removes 38512254 detections\n"
     ]
    }
   ],
   "source": [
    "count = 0\n",
    "count2 = 0\n",
    "keepa = [True] * len(movs_length)\n",
    "for i in range(len(movs_length)):\n",
    "    if earlyRemoval(movs[i],movs_length[i]):\n",
    "        count += 1\n",
    "        count2 += movs_length[i]\n",
    "        keepa[i] = False\n",
    "print(\"Early Removal removes {0} videos\".format(count))\n",
    "print(\"Early Removal removes {0} detections\".format(count2))"
   ]
  },
  {
   "cell_type": "code",
   "execution_count": 15,
   "metadata": {
    "collapsed": true
   },
   "outputs": [
    {
     "name": "stdout",
     "output_type": "stream",
     "text": [
      "[['0027db6241f596be3be781b0800f01f0#201104211030' '40' '1' '217' '0']\n",
      " ['00382ccacda6737efa828c92a9830a6c#201104121530' '40' '1' '321' '0']\n",
      " ['0085b69533070833fd6fdbe6eba46754#201104060820' '40' '1' '818' '0']\n",
      " ['00a6e726a32a26983443740207299d6e#201104091000' '40' '1' '1041' '0']\n",
      " ['00ab7b59490c4f2941202f5315cdc3eb#201104201020' '40' '1' '1068' '16']\n",
      " ['00cc608b0dcd23a3f21be3e4e6b1d4b6#201104140820' '40' '1' '1260' '0']\n",
      " ['00d3614dde1d350dcf6f6b21ed78e18f#201104291300' '40' '1' '1299' '0']\n",
      " ['00e01dcfd9698f3d269de6fad6a44f25#201104221350' '40' '1' '1373' '339']\n",
      " ['011f0536e9a83155adf8f92242372b68#201104020710' '40' '1' '1762' '0']\n",
      " ['014d044d7679f1269ca33b569a73386b#201104121240' '40' '1' '2061' '0']\n",
      " ['01612be19dd1791ad7bfbbe2621f342f#201104231240' '40' '1' '2172' '915']\n",
      " ['0171a40c76d156fbf88a30a96e6b7469#201104100710' '40' '1' '2267' '0']\n",
      " ['01ae8e19570be809cb3c00133f2eb0d9#201104150820' '40' '1' '2666' '0']\n",
      " ['01b0cdcdc7e76aef9a1fe88482458ecb#201104140840' '40' '1' '2678' '6']\n",
      " ['01d07828e06dc3b3140e36118d7f9a6b#201104190600' '40' '1' '2898' '0']\n",
      " ['02278cb55413f0c85da9bd4f2beab833#201104291710' '40' '1' '3414' '29']\n",
      " ['022db61afba07bc83932d9b0cafcb578#201104291040' '40' '1' '3449' '0']\n",
      " ['0244683b8b63c9eced25dd5b2cbbf549#201104071650' '40' '1' '3555' '15']\n",
      " ['0264e243092118799ff627adcc089fa6#201104301310' '40' '1' '3765' '0']\n",
      " ['0295ed0e042faa5f12be45711122b2d7#201104230700' '40' '1' '4064' '613']\n",
      " ['029bd33536c20efaf15112d2d0bb6dde#201104040820' '40' '1' '4092' '0']\n",
      " ['02aff4479cbffddcded43c16b0773fbf#201104140830' '40' '1' '4218' '0']\n",
      " ['02d50f318bacf1cf1aca4c7ac8202c62#201104291520' '40' '1' '4419' '3']\n",
      " ['02d80ae516c8633f8717760dba5a008f#201104050840' '40' '1' '4441' '0']\n",
      " ['02e37bf7ebbcdc10f5fe28b1ea80c7cb#201104221220' '40' '1' '4517' '105']\n",
      " ['03271fccf063f41ace6d8e8fdb187323#201104120610' '40' '1' '4923' '0']\n",
      " ['0327aa0c952d6b61556dd69d7af40655#201104021520' '40' '1' '4928' '0']\n",
      " ['0349cf4fcbff060d4d39c4f79d334f57#201104191740' '40' '1' '5151' '0']\n",
      " ['034edc8802580106adfb6278fb4abcde#201104301350' '40' '1' '5186' '0']\n",
      " ['0382e63c0ca713766cef69f9824e1a99#201104010640' '40' '1' '5512' '0']\n",
      " ['038cc3f4437bc327e1e758da46418a6e#201104180930' '40' '1' '5572' '7']\n",
      " ['039e520093ec441a9dab84799565cd03#201104100730' '40' '1' '5672' '0']\n",
      " ['03da3243649061cad3102601167cf8d8#201104200730' '40' '1' '6053' '0']\n",
      " ['03eac1579aca3145023fbade6cd70ea2#201104011220' '40' '1' '6155' '0']\n",
      " ['03ff7edf49b6ad9042f9927efff5de62#201104240810' '40' '1' '6309' '1499']\n",
      " ['042607da946dc09da5d1317b18c222f9#201104221030' '40' '1' '6536' '70']\n",
      " ['043a48c5a0db6f6aebdb817bccbf129f#201104070910' '40' '1' '6659' '33']\n",
      " ['044af0891e5552ac0381c81f98c76ce5#201104151140' '40' '1' '6773' '0']\n",
      " ['047c2c544e09454ef1cb580b7c612040#201104101730' '40' '1' '7071' '0']\n",
      " ['0493259681b788a32e59f21707238f15#201104201750' '40' '1' '7214' '34']\n",
      " ['04bbd73eaf760af1270a421241873c98#201104051330' '40' '1' '7479' '0']\n",
      " ['04c0ee741657e5ba423042643aa4c281#201104091800' '40' '1' '7511' '0']\n",
      " ['04c1721d6fa669175a1acb5a972cfd81#201104041110' '40' '1' '7512' '0']\n",
      " ['04eeefa60d8d1a121482f7387c33896e#201104211450' '40' '1' '7778' '0']\n",
      " ['04f24a5d98c591ba16d00b54df85cae0#201104031040' '40' '1' '7805' '0']\n",
      " ['0551fea7ddd1cd4958a73db2fc1738b9#201104091320' '40' '1' '8384' '0']\n",
      " ['057e49b1e4086a56553f8d1ca7bd32ae#201104221410' '40' '1' '8661' '262']\n",
      " ['059164c70b354d498e1e323b0f5173d1#201104131710' '40' '1' '8779' '0']\n",
      " ['06261d238092f9373f4644c9ae4780ba#201104171650' '40' '1' '9677' '0']\n",
      " ['067510398618a4ad306da1395c66926e#201104121520' '40' '1' '10138' '10']\n",
      " ['06928f7b3d138c140233024b09c0e5fe#201104101810' '40' '1' '10309' '0']\n",
      " ['06c2e2dc79eb47c9ef9a13e5701b4ca4#201104211830' '40' '1' '10587' '0']\n",
      " ['06e12ebaad6e46204671674f2bc3a785#201104020940' '40' '1' '10762' '0']\n",
      " ['06e3b5079573dd675812c03a8ffd1c80#201104230840' '40' '1' '10774' '985']\n",
      " ['06ea2b643036aa334058f88cdebd7276#201104141220' '40' '1' '10818' '0']\n",
      " ['07036dbaf666e2a851f312463a676dd0#201104180910' '40' '1' '10972' '9']\n",
      " ['070534834eef9eb065f8bd52dca3057d#201104200700' '40' '1' '10981' '26']\n",
      " ['071db2ed68f3d8f3f105d0464fc48a4d#201104141040' '40' '1' '11118' '0']\n",
      " ['0728c9583bb5605fc2fbfd3f670f29b4#201104201010' '40' '1' '11180' '0']\n",
      " ['07290a70ee110280e1bb9110f527f978#201104301700' '40' '1' '11182' '1']\n",
      " ['0739a882b0fb9ac5a9cb8b61a0e7991a#201104161100' '40' '1' '11277' '0']\n",
      " ['076822d7d96b31a20503337de2fdd94a#201104220830' '40' '1' '11551' '73']\n",
      " ['0777d6c46ca01ca01df58fd8d67029ce#201104230600' '40' '1' '11650' '569']\n",
      " ['079b101b0442dbf004c2cf560aab3cdc#201104221510' '40' '1' '11873' '85']\n",
      " ['07d0682ad2dd9b255f77fab95b2f5e3b#201104060750' '40' '1' '12212' '0']\n",
      " ['07e3139719a56336975d78d61f58fc36#201104140850' '40' '1' '12310' '0']\n",
      " ['08030b953e8158c6f89663f0292e2dac#201104221000' '40' '1' '12513' '143']\n",
      " ['083a583318947e4ddb3ec99ef73438dc#201104130630' '40' '1' '12856' '0']\n",
      " ['0879584676b8d03677be166a403179ea#201104220740' '40' '1' '13218' '76']\n",
      " ['08a1a9dc1208fadeb8911b980b731d84#201104101210' '40' '1' '13475' '0']]\n"
     ]
    }
   ],
   "source": [
    "bad_boys = movs_all[getSubset(cam=40,year=2011,month=4)][:70]\n",
    "print(bad_boys)"
   ]
  },
  {
   "cell_type": "code",
   "execution_count": 24,
   "metadata": {
    "scrolled": false
   },
   "outputs": [
    {
     "name": "stdout",
     "output_type": "stream",
     "text": [
      "[['ffef4f24762e568f5bf4f2bcfdd6b320#201011242300' '46' '1' '396785'\n",
      "  '5791']\n",
      " ['fff2609c8b67fe6427278b0fe71d147d#201101091230' '46' '1' '396802' '362']\n",
      " ['fff34859ffeb5b27fc3f53d13d564a3e#201012150640' '46' '1' '396811' '86']\n",
      " ['fff4f2f18157f2f61afe7304b9dc58f5#201103251150' '46' '1' '396822' '20']\n",
      " ['fff69e599dab68fdd7b508bede7ac554#201102271710' '46' '1' '396838' '37']\n",
      " ['fff7cfd846330b9ece5e917a1746d48c#201104300800' '46' '1' '396844' '115']\n",
      " ['fffc112b5bd2f9ff97aeb8dc57b70c6e#201109121320' '46' '1' '396873' '765']\n",
      " ['fffcd3e90cfb58d021b1c203ef8518aa#201102170250' '46' '1' '396875'\n",
      "  '7356']\n",
      " ['fffd9e005853a3993bf690f9f307e897#201107151520' '46' '1' '396881' '52']\n",
      " ['fffe96c61bb75b865dcd3e6876755abd#201101251200' '46' '1' '396888' '65']]\n",
      "[396785 396802 396811 396822 396838 396844 396873 396875 396881 396888]\n"
     ]
    }
   ],
   "source": [
    "bad_boys = movs_all[getSubset(cam=46)][-10:]\n",
    "print(bad_boys)\n",
    "picklist = bad_boys[:,3].astype(int)\n",
    "picklist = picklist[movs_length[picklist]!=0]\n",
    "print(picklist)"
   ]
  },
  {
   "cell_type": "markdown",
   "metadata": {},
   "source": [
    "# training set statistacks"
   ]
  },
  {
   "cell_type": "code",
   "execution_count": 4,
   "metadata": {},
   "outputs": [
    {
     "name": "stdout",
     "output_type": "stream",
     "text": [
      "(array([ 7,  7,  8, 17, 19,  4,  3,  3,  0,  4]), array([37, 38, 39, 40, 41, 42, 43, 44, 45, 46, 47]))\n"
     ]
    }
   ],
   "source": [
    "mattgtid = np.hstack((np.arange(30598,30633),np.arange(30634,30638)))\n",
    "\n",
    "forty = [112,180,272,285,330,447, 469, 474,498,500,517,527,545,550,622]\n",
    "fortyone = [10, 33, 75, 82, 101, 114, 182, 183, 275, 279, 282, 291, 306, 325, 338, 380, 420, 424]\n",
    "\n",
    "gtid  = np.hstack((mattgtid,forty,fortyone))\n",
    "gt = np.array(movs[gtid][:,1]).astype(int)\n",
    "print(np.histogram(gt,np.arange(37,48)))\n",
    "gts = movs[gtid]\n",
    "cams = gts[:,1]"
   ]
  },
  {
   "cell_type": "code",
   "execution_count": 5,
   "metadata": {},
   "outputs": [
    {
     "name": "stdout",
     "output_type": "stream",
     "text": [
      "(array([7, 7, 8, 2, 1, 4, 3, 3, 0, 4]), array([37, 38, 39, 40, 41, 42, 43, 44, 45, 46, 47]))\n"
     ]
    }
   ],
   "source": [
    "print(np.histogram(np.array(movs[mattgtid][:,1]).astype(int),np.arange(37,48)))"
   ]
  },
  {
   "cell_type": "code",
   "execution_count": 6,
   "metadata": {},
   "outputs": [
    {
     "name": "stdout",
     "output_type": "stream",
     "text": [
      "[30616 30631 30635]\n"
     ]
    }
   ],
   "source": [
    "print(mattgtid[movs[mattgtid][:,1]==\"44\"])"
   ]
  },
  {
   "cell_type": "code",
   "execution_count": 34,
   "metadata": {},
   "outputs": [
    {
     "data": {
      "image/png": "[encoded data removed]",
      "text/plain": [
       "<matplotlib.figure.Figure at 0x7f00006f0610>"
      ]
     },
     "metadata": {},
     "output_type": "display_data"
    }
   ],
   "source": [
    "idl = np.hstack((np.arange(30598,30633),np.arange(30634,30638)))\n",
    "\n",
    "forty = [112,180,272,285,330,447, 469, 474,498,500,517,527,545,550,622]\n",
    "fortyone = [10, 33, 75, 82, 101, 114, 182, 183, 275, 279, 282, 291, 306, 325, 338, 380, 420, 424]\n",
    "\n",
    "idl = np.hstack((idl,np.array(forty),np.array(fortyone)))\n",
    "ids = movs[idl]\n",
    "idss = ids[:,1]\n",
    "sites = np.unique(idss)\n",
    "\n",
    "dets = [None] * 9\n",
    "\n",
    "for j, s in enumerate(sites):\n",
    "    subset = ids[idss==s]\n",
    "    idees = idl[idss==s]\n",
    "    \n",
    "    totcount = np.zeros(10)\n",
    "    \n",
    "    for v in idees:\n",
    "        try:   gts = loadGT(movs[v][0], movs_length[v], partial=True)\n",
    "        except:\n",
    "            try:gts = loadGT(movs[v][0], movs_length[v], partial=False)\n",
    "            except:gts = np.array(loadNewGT(movs[v][0], movs_length[v]))\n",
    "        \n",
    "        gts = gts[gts!=None]\n",
    "                \n",
    "        \n",
    "        counts = np.histogram(gts,np.arange(0,12))[0]\n",
    "        totcount += counts[1:]\n",
    "        \n",
    "    dets[j] = totcount\n",
    "    \n",
    "dets = np.array(dets)\n",
    "\n",
    "cameras = [\"NPP-3 Camera 1\", \"NPP-3 Camera 3\",  \"NPP-3 Camera 4\",\n",
    "           \"HoBiHu Camera 1\",\"HoBiHu Camera 2\", \"NPP-3 Camera 2\",\n",
    "           \"HoBiHu Camera 3\",\"Lanyu Camera 1\",  \"Lanyu Camera 2\"]\n",
    "plt.figure(figsize=(12,5))\n",
    "sns.heatmap(dets,\n",
    "            xticklabels=np.arange(1,11), \n",
    "            yticklabels=cameras, \n",
    "            vmin=0, vmax=300, \n",
    "            fmt='.2f', annot=True)\n",
    "plt.xlabel(\"Class\")\n",
    "plt.ylabel(\"Camera Site\")\n",
    "plt.title(\"Count of detections in training dataset\")\n",
    "plt.show()"
   ]
  },
  {
   "cell_type": "markdown",
   "metadata": {},
   "source": [
    "# location checking"
   ]
  },
  {
   "cell_type": "code",
   "execution_count": 25,
   "metadata": {
    "scrolled": true
   },
   "outputs": [
    {
     "name": "stdout",
     "output_type": "stream",
     "text": [
      "Mov_id 48354, ['1f44781afd0701ab2bc751799e107ba7#201109062230' '44' '1'] have 103400 detections\n",
      "Mov_id 217203, ['8c31f2332f6d6661ddc8b8c9c967dd63#201109052200' '44' '1'] have 99804 detections\n",
      "Mov_id 247420, ['9fbd8da06c253c8546c4a3436ffa4e0e#201001010840' '38' '0'] have 201461 detections\n",
      "Mov_id 263920, ['aa75290b85983f1836661ab737819243#201108221940' '46' '1'] have 102808 detections\n",
      "Empty videos: 8493\n"
     ]
    }
   ],
   "source": [
    "count = 0\n",
    "bad_boys = []\n",
    "for i in np.arange(len(movs_length)):\n",
    "    #if movs[i][0][41:43] == \"04\" and movs[i][1] == \"46\" :\n",
    "    if movs_length[i] > 99700:# and movs[i][1] == \"42\" :\n",
    "        bad_boys.append(i)\n",
    "        print(\"Mov_id {0}, {1} have {2} detections\".format(i,movs[i],movs_length[i]))\n",
    "    if movs_length[i] == 0:\n",
    "        count += 1\n",
    "print(\"Empty videos: {0}\".format(count))"
   ]
  },
  {
   "cell_type": "code",
   "execution_count": 4,
   "metadata": {},
   "outputs": [
    {
     "name": "stdout",
     "output_type": "stream",
     "text": [
      "0\n",
      "1584\n",
      "['ffffc4037118c1fb585fd53c76a00f2d#201301121700' '37' '1']\n",
      "['00000857dd49007f4a35abebb90aafe0#201110011530' '39' '0']\n",
      "['00ffed7f2ce433d61a5b11456f2b6d39#201105011730' '40' '1']\n",
      "['0100835177c8464620df5c5821d1ce5d#201106211550' '38' '0']\n"
     ]
    }
   ],
   "source": [
    "get = False\n",
    "id1 = 0;\n",
    "id2 = 0;\n",
    "for i, item in enumerate(movs):\n",
    "    if (not get) and (item[0][:2] == \"00\"):\n",
    "        print(i)\n",
    "        id1 = i\n",
    "        get = True\n",
    "    if get and (item[0][:2] == \"01\"):\n",
    "        print(i)\n",
    "        id2 = i\n",
    "        break\n",
    "print(movs[id1-1])\n",
    "print(movs[id1])\n",
    "print(movs[id2-1])\n",
    "print(movs[id2])"
   ]
  },
  {
   "cell_type": "code",
   "execution_count": 5,
   "metadata": {},
   "outputs": [
    {
     "name": "stdout",
     "output_type": "stream",
     "text": [
      "30598\n",
      "30695\n",
      "['13af5ee11f80194b90df624b724cbfd7#201104041540' '41' '1']\n",
      "['13b002807976fe6baf25398a889cf358#201206121450' '39' '1']\n",
      "['13bf835042ad37aee7333c1cacbba3e9#201012191350' '41' '0']\n",
      "['13c00c732c91d781afc8f24c2e63b372#201002091340' '42' '0']\n"
     ]
    }
   ],
   "source": [
    "get = False\n",
    "id1 = 0;\n",
    "id2 = 0;\n",
    "for i, item in enumerate(movs):\n",
    "    if (not get) and (item[0][:3] == \"13b\"):\n",
    "        print(i)\n",
    "        id1 = i\n",
    "        get = True\n",
    "    if get and (item[0][:3] == \"13c\"):\n",
    "        print(i)\n",
    "        id2 = i\n",
    "        break\n",
    "print(movs[id1-1])\n",
    "print(movs[id1])\n",
    "print(movs[id2-1])\n",
    "print(movs[id2])"
   ]
  },
  {
   "cell_type": "code",
   "execution_count": 6,
   "metadata": {},
   "outputs": [
    {
     "name": "stdout",
     "output_type": "stream",
     "text": [
      "4595\n",
      "8072\n",
      "37094711\n"
     ]
    }
   ],
   "source": [
    "naughty = []\n",
    "for i, mov in enumerate(movs):\n",
    "    hour = int(mov[0][41:43])\n",
    "    month = mov[0][33:39]\n",
    "    if ((hour > 18 or hour < 6) and (mov[1] == \"44\" or mov[1] == \"46\")) or movs_length[i] > 30000:\n",
    "        naughty.append(i)\n",
    "print(len(naughty))\n",
    "print(np.sum(movs_length[naughty])/len(naughty))\n",
    "print(np.sum(movs_length[naughty]))"
   ]
  },
  {
   "cell_type": "code",
   "execution_count": 4,
   "metadata": {},
   "outputs": [
    {
     "name": "stdout",
     "output_type": "stream",
     "text": [
      "10056\n",
      "15226\n",
      "153119563\n"
     ]
    }
   ],
   "source": [
    "naughty = []\n",
    "for i, mov in enumerate(movs):\n",
    "    hour = int(mov[0][41:43])\n",
    "    month = mov[0][33:39]\n",
    "    if movs_length[i] > 10000:\n",
    "        naughty.append(i)\n",
    "print(len(naughty))\n",
    "print(np.sum(movs_length[naughty])/len(naughty))\n",
    "print(np.sum(movs_length[naughty]))"
   ]
  }
 ],
 "metadata": {
  "kernelspec": {
   "display_name": "Python 2",
   "language": "python",
   "name": "python2"
  },
  "language_info": {
   "codemirror_mode": {
    "name": "ipython",
    "version": 2
   },
   "file_extension": ".py",
   "mimetype": "text/x-python",
   "name": "python",
   "nbconvert_exporter": "python",
   "pygments_lexer": "ipython2",
   "version": "2.7.14"
  }
 },
 "nbformat": 4,
 "nbformat_minor": 2
}
