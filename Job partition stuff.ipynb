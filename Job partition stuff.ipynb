{
 "cells": [
  {
   "cell_type": "code",
   "execution_count": 2,
   "metadata": {
    "collapsed": true
   },
   "outputs": [],
   "source": [
    "#!/afs/inf.ed.ac.uk/user/s14/s1413557/miniconda2/bin/python\n",
    "from __future__ import print_function\n",
    "from f4klib2 import *\n",
    "movs = loadMovids()\n",
    "movs_length = loadLengths()\n",
    "ids, pickables = loadPickables(movs) #Movid having reference in F4K csv"
   ]
  },
  {
   "cell_type": "code",
   "execution_count": 3,
   "metadata": {},
   "outputs": [
    {
     "name": "stdout",
     "output_type": "stream",
     "text": [
      "97\n",
      "154042\n"
     ]
    }
   ],
   "source": [
    "print(len(movs_length[30598:30695]))\n",
    "print(sum(movs_length[30598:30695]))"
   ]
  },
  {
   "cell_type": "code",
   "execution_count": 21,
   "metadata": {},
   "outputs": [
    {
     "name": "stdout",
     "output_type": "stream",
     "text": [
      "(array([ 7,  7,  8, 17, 19,  4,  3,  3,  0,  4]), array([37, 38, 39, 40, 41, 42, 43, 44, 45, 46, 47]))\n",
      "[['13b0504b1e3861e71d2795713aa7b10e#201101091110' '43' '0']\n",
      " ['13b139e6787e2330d89c7bf97ed97652#201105031430' '43' '1']\n",
      " ['13b2cf9e77e325011167b5059e929ef8#201101091010' '43' '0']]\n"
     ]
    }
   ],
   "source": [
    "mattgtid = np.hstack((np.arange(30598,30633),np.arange(30634,30638)))\n",
    "forty = [112,180,272,285,330,447, 469, 474,498,500,517,527,545,550,622]\n",
    "fortyone = [10, 33, 75, 82, 101, 114, 182, 183, 275, 279, 282, 291, 306, 325, 338, 380, 420, 424]\n",
    "gtid  = np.hstack((mattgtid,forty,fortyone))\n",
    "gt = np.array(movs[gtid][:,1]).astype(int)\n",
    "print(np.histogram(gt,np.arange(37,48)))\n",
    "gts = movs[gtid]\n",
    "cams = gts[:,1]"
   ]
  },
  {
   "cell_type": "code",
   "execution_count": 2,
   "metadata": {},
   "outputs": [
    {
     "name": "stdout",
     "output_type": "stream",
     "text": [
      "9349\n",
      "38512254\n"
     ]
    }
   ],
   "source": [
    "count = 0\n",
    "count2 = 0\n",
    "keepa = [True] * len(movs_length)\n",
    "for i in range(len(movs_length)):\n",
    "    if earlyRemoval(movs[i],movs_length[i]):\n",
    "        count += 1\n",
    "        count2 += movs_length[i]\n",
    "        keepa[i] = False\n",
    "print(count)\n",
    "print(count2)"
   ]
  },
  {
   "cell_type": "code",
   "execution_count": 13,
   "metadata": {
    "scrolled": false
   },
   "outputs": [
    {
     "name": "stdout",
     "output_type": "stream",
     "text": [
      "Mov_id 10, ['0000e3df18698b393e9b3b8703138d6a#201011231100' '41' '0'] have 393 detections\n",
      "Mov_id 33, ['0004261a4b28a2adc245a701a4600073#201105011550' '41' '1'] have 1353 detections\n",
      "Mov_id 36, ['00048ff977287cbf4a7425ffae9aa591#201009081300' '41' '0'] have 0 detections\n",
      "Mov_id 75, ['000bfad451920fd784520ca4c093a39b#201009061440' '41' '0'] have 896 detections\n",
      "Mov_id 82, ['000e3e0fce02cfc671da7fe1cf618934#201012281520' '41' '0'] have 171 detections\n",
      "Mov_id 101, ['00120d88597ad3c8ac0e72fff90977b4#201105171150' '41' '1'] have 1610 detections\n",
      "Mov_id 114, ['001574488cb2284032bf4d15847a818a#201104270950' '41' '1'] have 2271 detections\n",
      "Mov_id 182, ['002133cfca3332331482fc13f3b1d2f9#201103061230' '41' '1'] have 1102 detections\n",
      "Mov_id 183, ['00213e2a233cca72abf5fb0f2a3f73e5#201009061210' '41' '0'] have 187 detections\n",
      "Mov_id 275, ['0030ddbd00cb6d50838c81f14d717bf4#201101070950' '41' '0'] have 229 detections\n",
      "Mov_id 279, ['00310e7d115c05d6b7f56345bdfa3ac4#201104031400' '41' '1'] have 1681 detections\n",
      "Mov_id 282, ['003138009a2a7ec49a3a21eb47bdef12#201012100940' '41' '0'] have 30 detections\n",
      "Mov_id 291, ['00337beaf9c580b6b7a025f8684b6d77#201012151350' '41' '0'] have 32 detections\n",
      "Mov_id 306, ['0035ed1edd5c4e733d5ef79e2690cc4e#201101121430' '41' '0'] have 171 detections\n",
      "Mov_id 325, ['0038727b6f92a4f24467d3fb0b81935e#201012100640' '41' '0'] have 75 detections\n",
      "Mov_id 338, ['003a8994336cd149fa6e886e4e725218#201103201700' '41' '1'] have 362 detections\n",
      "Mov_id 380, ['004021e00c248cd095a8ee90da366a64#201011011540' '41' '0'] have 3336 detections\n",
      "Mov_id 415, ['0045da173b10591dbfd28c31c4b6e935#201010260630' '41' '0'] have 0 detections\n",
      "Mov_id 420, ['0046b8529d15dd7d75cb0f036409b711#201101181020' '41' '0'] have 236 detections\n",
      "Mov_id 424, ['004742f5c43bf7488dcba1ac1da4a512#201104191730' '41' '1'] have 521 detections\n",
      "[10, 33, 75, 82, 101, 114, 182, 183, 275, 279, 282, 291, 306, 325, 338, 380, 420, 424]\n",
      "37,1,'NPP-3','3.6mm F1.8 1/3 inches CCD',0,5\n",
      "38,3,'NPP-3','3.6mm F1.8 1/3 inches CCD',0,5\n",
      "39,4,'NPP-3','3.6mm F1.8 1/3 inches CCD',0,5\n",
      "40,1,'HoBiHu','3.6mm F1.8 1/3 inches CCD',0,5\n",
      "41,2,'HoBiHu','3.6mm F1.8 1/3 inches CCD',0,5\n",
      "42,2,'NPP-3','3.6mm F1.8 1/3 inches CCD',0,5\n",
      "43,3,'HoBiHu','3.6mm F1.8 1/3 inches CCD',0,5\n",
      "44,1,'LanYu','3.6mm Iris:auto 1/3 inches CCD; white LED night sight',0,15\n",
      "46,2,'LanYu','3.6mm Iris:auto 1/3 inches CCD; white LED night sight',0,15\n"
     ]
    }
   ],
   "source": [
    "count = 0\n",
    "bad_boys = []\n",
    "for i in np.arange(len(movs_length)):\n",
    "    if count == 20: break\n",
    "    if movs[i][1] == \"41\":\n",
    "        if movs_length[i]>0:\n",
    "            bad_boys.append(i)\n",
    "        print(\"Mov_id {0}, {1} have {2} detections\".format(i,movs[i],movs_length[i]))\n",
    "        count += 1\n",
    "print(bad_boys)\n",
    "printCameras()"
   ]
  },
  {
   "cell_type": "code",
   "execution_count": 3,
   "metadata": {
    "scrolled": true
   },
   "outputs": [
    {
     "name": "stdout",
     "output_type": "stream",
     "text": [
      "Mov_id 48354, ['1f44781afd0701ab2bc751799e107ba7#201109062230' '44' '1'] have 103400 detections\n",
      "Mov_id 217203, ['8c31f2332f6d6661ddc8b8c9c967dd63#201109052200' '44' '1'] have 99804 detections\n",
      "Mov_id 247420, ['9fbd8da06c253c8546c4a3436ffa4e0e#201001010840' '38' '0'] have 201461 detections\n",
      "Mov_id 263920, ['aa75290b85983f1836661ab737819243#201108221940' '46' '1'] have 102808 detections\n",
      "Empty videos: 8493\n",
      "37,1,'NPP-3','3.6mm F1.8 1/3 inches CCD',0,5\n",
      "38,3,'NPP-3','3.6mm F1.8 1/3 inches CCD',0,5\n",
      "39,4,'NPP-3','3.6mm F1.8 1/3 inches CCD',0,5\n",
      "40,1,'HoBiHu','3.6mm F1.8 1/3 inches CCD',0,5\n",
      "41,2,'HoBiHu','3.6mm F1.8 1/3 inches CCD',0,5\n",
      "42,2,'NPP-3','3.6mm F1.8 1/3 inches CCD',0,5\n",
      "43,3,'HoBiHu','3.6mm F1.8 1/3 inches CCD',0,5\n",
      "44,1,'LanYu','3.6mm Iris:auto 1/3 inches CCD; white LED night sight',0,15\n",
      "46,2,'LanYu','3.6mm Iris:auto 1/3 inches CCD; white LED night sight',0,15\n"
     ]
    }
   ],
   "source": [
    "count = 0\n",
    "bad_boys = []\n",
    "for i in np.arange(len(movs_length)):\n",
    "    #if movs[i][0][41:43] == \"04\" and movs[i][1] == \"46\" :\n",
    "    if movs_length[i] > 99700:# and movs[i][1] == \"42\" :\n",
    "        bad_boys.append(i)\n",
    "        print(\"Mov_id {0}, {1} have {2} detections\".format(i,movs[i],movs_length[i]))\n",
    "    if movs_length[i] == 0:\n",
    "        count += 1\n",
    "print(\"Empty videos: {0}\".format(count))\n",
    "printCameras()"
   ]
  },
  {
   "cell_type": "code",
   "execution_count": 6,
   "metadata": {
    "scrolled": true
   },
   "outputs": [
    {
     "name": "stdout",
     "output_type": "stream",
     "text": [
      "Mov_id 7203, ['0491511a0626aa2e135b9ade5b882e61#201001021240' '38' '0'] have 46886 detections\n",
      "Mov_id 13429, ['089b6a35d41ca5eaa4d1f9563a70950c#201001010920' '38' '0'] have 31916 detections\n",
      "Mov_id 13637, ['08ba3f48808354a679b57c05bfbecc09#201107091300' '39' '1'] have 32783 detections\n",
      "Mov_id 15534, ['09f9ff3ba116e0954893ff2ddf7039b6#201201241000' '42' '1'] have 31644 detections\n",
      "Mov_id 15722, ['0a16fb3eaa8e8210c7520be895a685bc#201202091530' '39' '1'] have 34014 detections\n",
      "Mov_id 19733, ['0ca95ff0c955cd3fb4aa51a173d3ac9e#201001031200' '37' '0'] have 32379 detections\n",
      "Mov_id 20943, ['0d7180c89ea0f5981ff3ed0b2fa71c96#201001030940' '38' '0'] have 32259 detections\n",
      "Mov_id 21188, ['0d9696e242cb2460962a166b3ffce16b#201001011430' '38' '0'] have 36960 detections\n",
      "Mov_id 22479, ['0e6cfdb5c9fbf31f2aaa9f5921face05#201107310900' '38' '1'] have 52130 detections\n",
      "Mov_id 25102, ['101a67c57be314c6e256019e9e3f90b0#201001010720' '38' '0'] have 42715 detections\n",
      "Mov_id 31109, ['1403910d6339b7c75937bfeb404017d0#201001021050' '38' '0'] have 31477 detections\n",
      "Mov_id 32897, ['1535a2c4ba86d9a8b36aec3b106b14dc#201001030730' '38' '0'] have 41137 detections\n",
      "Mov_id 33154, ['15623aef7f5c51fd99ce70527c2bb7b4#201001010820' '38' '0'] have 31749 detections\n",
      "Mov_id 35375, ['16cb59313448f2b96d6cf5eeb19201f5#201001021410' '38' '0'] have 30337 detections\n",
      "Mov_id 40010, ['19d2a964c98500a0e7545a63f7c71141#201105030610' '39' '1'] have 37732 detections\n",
      "Mov_id 42731, ['1b937e9c9c3a5abe970028ebdcd7147e#201001010950' '38' '0'] have 32630 detections\n",
      "Mov_id 47401, ['1ea5791df6fb280fb29446b25dccf456#201011281000' '38' '0'] have 32123 detections\n",
      "Mov_id 47415, ['1ea7d48f4d34dc8df17ac8f854d57b4f#201011271120' '38' '0'] have 34136 detections\n",
      "Mov_id 48469, ['1f5b069eb38a4e742fa1afee6f05de2c#201201190930' '39' '1'] have 33054 detections\n",
      "Mov_id 49247, ['1fe07141be5a582f21d1c9fdc37deceb#201001031150' '38' '0'] have 41019 detections\n",
      "Mov_id 50884, ['20f388477fb065471ee9cf6742289b4e#201106161210' '42' '1'] have 49869 detections\n",
      "Mov_id 51957, ['21a5ba380b5aee0af46a02a78fabbcab#201107201210' '39' '1'] have 34949 detections\n",
      "Mov_id 53607, ['22b5959da125615c645b8dcf7cd7c0f5#201201181210' '39' '1'] have 31158 detections\n",
      "Mov_id 54364, ['233948826016eff520960429a75fad33#201011280920' '38' '0'] have 31725 detections\n",
      "Mov_id 56880, ['24d9c620c337e6e91d9a265f4c56b5b1#201001021440' '38' '0'] have 40413 detections\n",
      "Mov_id 59641, ['26a6446d939e7449ca2d6d5f091f4d6b#201106291200' '39' '1'] have 45442 detections\n",
      "Mov_id 59939, ['26dab74766965192051748ea2ba3fcc1#201108231600' '39' '1'] have 31494 detections\n",
      "Mov_id 61508, ['27e5665eea6996ddfaa997b45e32adf7#201202090710' '39' '1'] have 35940 detections\n",
      "Mov_id 63411, ['2916cdf17c94f56f06fbb9e61c678fcf#201001011300' '38' '0'] have 37854 detections\n",
      "Mov_id 67531, ['2bc58a884596e78f3c5d8cddd8b8e093#201011271150' '38' '0'] have 32096 detections\n",
      "Mov_id 67552, ['2bc89536468b88bf28467a9ba9d36dd5#201201201010' '39' '1'] have 36333 detections\n",
      "Mov_id 67855, ['2bf63c92988d3eb3e112d8883eb41594#201111290840' '39' '1'] have 31221 detections\n",
      "Mov_id 68228, ['2c33ab0dbd642490e8c7ba2b4e8773c0#201201221030' '39' '1'] have 44060 detections\n",
      "Mov_id 70106, ['2d6ad7f46d3f649b208dbb9585253b0f#201001021020' '38' '0'] have 37438 detections\n",
      "Mov_id 70534, ['2db1347cfa2c1a74b84781e3ac52c23c#201112081150' '39' '1'] have 35089 detections\n",
      "Mov_id 75281, ['30c6a33c9d183778b4b804d10526c2c2#201001021520' '38' '0'] have 38510 detections\n",
      "Mov_id 78219, ['32a3b8434e47581c57af23a4cae099dd#201201201310' '39' '1'] have 31555 detections\n",
      "Mov_id 81765, ['34f249a403e3735736cf1107e4646eb1#201111240800' '39' '1'] have 32365 detections\n",
      "Mov_id 88598, ['3952e564d780ea2bd799703d7c797947#201011271100' '38' '0'] have 32260 detections\n",
      "Mov_id 102360, ['42316a6ad7dc3e205dbb407e9500ddfe#201201201120' '39' '1'] have 31132 detections\n",
      "Mov_id 103736, ['4310206c0ece2ffd6f922b7437bf8b43#201106281600' '39' '1'] have 31916 detections\n",
      "Mov_id 110206, ['4742cb37018b9c145bb55d3d77cf5c2b#201011270810' '38' '0'] have 30911 detections\n",
      "Mov_id 113335, ['494ecad1cf2322fa98a8d27d942236ee#201201191420' '39' '1'] have 35686 detections\n",
      "Mov_id 115562, ['4ab765a648355bc1804597c0d1a3235b#201001010640' '38' '0'] have 42691 detections\n",
      "Mov_id 116182, ['4b11d360a63b0bc071c95eac50dd5143#201001010830' '38' '0'] have 30036 detections\n",
      "Mov_id 117463, ['4be1157f758147c108fe20cf234c5081#201001030900' '38' '0'] have 38314 detections\n",
      "Mov_id 123629, ['4ffaf8ecef4b37f37f7696f58c294358#201105031430' '39' '1'] have 37027 detections\n",
      "Mov_id 124804, ['50bb69f4c269f88f75b6f5a300822b66#201001021510' '38' '0'] have 39740 detections\n",
      "Mov_id 127210, ['5247409b578073188d5fb0bd86a36cdf#201011280940' '38' '0'] have 31110 detections\n",
      "Mov_id 127772, ['52a47bda04dc7183a3ee8fee52c3b4bd#201011151120' '38' '0'] have 32571 detections\n",
      "Mov_id 128099, ['52dbbe9ed6385df547b1ef188495bd6b#201001010750' '38' '0'] have 39127 detections\n",
      "Mov_id 131568, ['55128ea983833746c204246892740083#201107151240' '39' '1'] have 35875 detections\n",
      "Mov_id 133840, ['568734ef27fbf01d256579e8a37734a3#201108061800' '37' '1'] have 30793 detections\n",
      "Mov_id 134795, ['571a684510e52d88500a819b00a58b65#201201180930' '38' '1'] have 64424 detections\n",
      "Mov_id 137777, ['590853d2a150555aebd109a3e40a5abe#201001030640' '38' '0'] have 44679 detections\n",
      "Mov_id 137895, ['5919a4284e6f29682c21f539a952cdfc#201109120600' '39' '1'] have 30347 detections\n",
      "Mov_id 142210, ['5bdca4667cc8bb4eaaa47eed038df3a0#201001030930' '38' '0'] have 30927 detections\n",
      "Mov_id 146914, ['5eda379b6e6743b2a6cf77905f17ce23#201201251230' '39' '1'] have 30579 detections\n",
      "Mov_id 157679, ['65ad4a233e7107b931e524ce1c6729f7#201106161140' '42' '1'] have 51234 detections\n",
      "Mov_id 159154, ['66a4fb9e247d06dbec54d0aa14480896#201001010810' '38' '0'] have 40059 detections\n",
      "Mov_id 165530, ['6ab5a71c53e7c9cab6bf08f4ac0ed2d5#201001010710' '38' '0'] have 34310 detections\n",
      "Mov_id 166158, ['6b1d2d3a23cf6a6a03506db94a346909#201001021040' '38' '0'] have 49267 detections\n",
      "Mov_id 167756, ['6c18da1b8e5657b1a41456201267b032#201001010740' '38' '0'] have 41379 detections\n",
      "Mov_id 168209, ['6c6bbc182070c202b7ce08f68de5895b#201001031000' '38' '0'] have 36036 detections\n",
      "Mov_id 170442, ['6dd18353e2e488c4a2862078b87a4419#201201201040' '39' '1'] have 30801 detections\n",
      "Mov_id 171658, ['6e919cd1e76571a5bbbf9a521333598c#201112011210' '39' '1'] have 32114 detections\n",
      "Mov_id 173644, ['6fea0d6280588292318c0a724a34d95a#201001011500' '38' '0'] have 38064 detections\n",
      "Mov_id 174642, ['7093478f06ed54e6be89f21bd2e1afb7#201201201000' '39' '1'] have 31232 detections\n",
      "Mov_id 175216, ['70f40b34f42be0d2f3bd914cffbfca90#201001030650' '38' '0'] have 36218 detections\n",
      "Mov_id 177011, ['7225042d244fddd2bcb51fde153d549c#201001021620' '38' '0'] have 34959 detections\n",
      "Mov_id 178454, ['73104bbd71361b18df8e790668e3ee56#201001010700' '38' '0'] have 38489 detections\n",
      "Mov_id 178461, ['7311db6fc5998e84321d10e4fdc91cf7#201201301430' '38' '1'] have 41372 detections\n",
      "Mov_id 180392, ['744d4bf0a24c3fa1fc90205d9f5ab84d#201201190920' '39' '1'] have 51775 detections\n",
      "Mov_id 185452, ['77906532aabd0d3cfdb01e1cec38bbe6#201001030910' '38' '0'] have 31584 detections\n",
      "Mov_id 187100, ['78a5eaaa196a6e17ffef25178dfe0eeb#201001011530' '38' '0'] have 33946 detections\n",
      "Mov_id 187506, ['78ebdb09be6f2960510d1e305e41b1f2#201001011450' '38' '0'] have 31841 detections\n",
      "Mov_id 204060, ['83b0fbe4d4f6e438bb9ec3785e39791a#201001021110' '38' '0'] have 35895 detections\n",
      "Mov_id 205055, ['84558b2ac5d9c4d5ad327659475b3461#201011271140' '38' '0'] have 34813 detections\n",
      "Mov_id 206046, ['84f07e05e961d8c840e8801a20e4df2c#201011271130' '38' '0'] have 37088 detections\n",
      "Mov_id 208971, ['86d941b3b2a34013430e8413a7de90ec#201111281030' '39' '1'] have 32767 detections\n",
      "Mov_id 210621, ['87efc60411fec7e417b8dbac4a92cf46#201011270820' '38' '0'] have 30930 detections\n",
      "Mov_id 212704, ['89478e606e29d144e594af7211073996#201011271110' '38' '0'] have 32030 detections\n",
      "Mov_id 215439, ['8b0c0d857826b79a51344f26b5bd981a#201106021300' '39' '1'] have 39162 detections\n",
      "Mov_id 215460, ['8b0f3a2017e61a4cf7c067a43c77fef8#201112101400' '39' '1'] have 32380 detections\n",
      "Mov_id 215940, ['8b5e82adb45ad974c96ee73e899faa98#201106201500' '39' '1'] have 33130 detections\n",
      "Mov_id 217022, ['8c137e2b5576bd570af637e85d83c091#201001030750' '38' '0'] have 41887 detections\n",
      "Mov_id 220329, ['8e363522b8aae1fad7b1b23556cb3d42#201011151130' '38' '0'] have 32048 detections\n",
      "Mov_id 226422, ['9237ef089509b07ddd82f5ee6af1b092#201001021530' '38' '0'] have 34202 detections\n",
      "Mov_id 228441, ['938711e8d2c66c404e2463194b777cd6#201108111530' '39' '1'] have 39686 detections\n",
      "Mov_id 230391, ['94ca10e0f6806c1f49dac98e9dc0ff8b#201107170900' '39' '1'] have 33379 detections\n",
      "Mov_id 244976, ['9e2bb537b886fca28bf098b652635517#201011270840' '38' '0'] have 36253 detections\n",
      "Mov_id 246415, ['9f161842044e8f7c2c9bd07ae95660b8#201105010740' '39' '1'] have 30179 detections\n",
      "Mov_id 246518, ['9f28f7406de6316bff86e9da189574e2#201011271200' '38' '0'] have 33031 detections\n",
      "Mov_id 247420, ['9fbd8da06c253c8546c4a3436ffa4e0e#201001010840' '38' '0'] have 201461 detections\n",
      "Mov_id 249802, ['a1449abbc9b5fb8db0edfa2b81a91c7e#201111251040' '39' '1'] have 42874 detections\n",
      "Mov_id 257581, ['a65a586df25bc43a364fdef1966b9102#201001031050' '38' '0'] have 33562 detections\n",
      "Mov_id 261850, ['a9203caba9ecede21beb886b945db9bd#201001020630' '38' '0'] have 31912 detections\n",
      "Mov_id 262643, ['a9a2c164ba0654a12a5950dd2615bd0e#201107131320' '39' '1'] have 30143 detections\n",
      "Mov_id 270815, ['aee018e97976b3f265737d822affa18d#201001010650' '38' '0'] have 33662 detections\n",
      "Mov_id 271972, ['af9d329bfe94570652c6bb4a39b6e4a0#201201191200' '39' '1'] have 33361 detections\n",
      "Mov_id 272817, ['b031abfe51f634454c45fbd68d618045#201001020910' '38' '0'] have 30385 detections\n",
      "Mov_id 272957, ['b048e377ec7efacf53ed7511c7ff6dbd#201106161050' '42' '1'] have 62952 detections\n",
      "Mov_id 275898, ['b21b41f639ebf6955f6529809fa9062e#201001010630' '38' '0'] have 38653 detections\n",
      "Mov_id 276717, ['b29d64deb2740d11eaef386759340c95#201105030700' '39' '1'] have 30150 detections\n",
      "Mov_id 279727, ['b48c4f2aea9fcce1fa62da964e0c7443#201201201130' '39' '1'] have 31707 detections\n",
      "Mov_id 287595, ['b999ae54d0ae55262f4d51e5d66a034b#201108201650' '39' '1'] have 33334 detections\n",
      "Mov_id 293019, ['bd103195cac52c817235d07d0baa17d6#201111290900' '39' '1'] have 42890 detections\n",
      "Mov_id 301563, ['c27c219bf13f3cdb21f86e3b687ae7aa#201106031300' '39' '1'] have 45234 detections\n",
      "Mov_id 301655, ['c28bb545e7d567850c0023f2194056df#201108261400' '42' '1'] have 54124 detections\n",
      "Mov_id 302807, ['c3472f6bd3b40b63e301f9f547272653#201202091110' '39' '1'] have 30238 detections\n",
      "Mov_id 307065, ['c60527a6ae437e7b30df0828ed6eaf36#201108111620' '39' '1'] have 36286 detections\n",
      "Mov_id 310223, ['c801c4a403da22c2c22965e33ad33f38#201001011320' '38' '0'] have 31584 detections\n",
      "Mov_id 314569, ['cadc489834e742d79de34d3d490b4436#201104300700' '39' '1'] have 32393 detections\n",
      "Mov_id 323256, ['d08b7c3622f7905dd1a0eedccc956fc8#201001030740' '38' '0'] have 40563 detections\n",
      "Mov_id 323580, ['d0c3ca69ddfd1b279b2c4a43c0804071#201107161000' '39' '1'] have 30339 detections\n",
      "Mov_id 331749, ['d6048aaf9dbdc68d1c05ec09c1a37529#201201221400' '39' '1'] have 31024 detections\n",
      "Mov_id 337408, ['d9b22eacdc6e3f03bcc8ee04a2169e20#201106161150' '42' '1'] have 51101 detections\n",
      "Mov_id 338705, ['da815b983cbc60fe340f0179ebe0ae80#201107301200' '39' '1'] have 32360 detections\n",
      "Mov_id 339968, ['db59bd8686dc54e4a79329f9b93e8e76#201001040740' '38' '0'] have 32117 detections\n",
      "Mov_id 341234, ['dc2b9cc5f4923484f0e8cfdd63cb679e#201201191000' '39' '1'] have 54668 detections\n",
      "Mov_id 343195, ['dd742e8d047647103b2be794cb4ef133#201107131340' '42' '1'] have 34250 detections\n",
      "Mov_id 346461, ['df8c690742822a111e3ccbe5f67ce967#201001021430' '38' '0'] have 35317 detections\n",
      "Mov_id 351272, ['e2a61292c438055a8cbc48a7b41b52d1#201112101300' '39' '1'] have 30968 detections\n",
      "Mov_id 355405, ['e54f85d4bff966ee4056550424f411c8#201011280800' '38' '0'] have 30715 detections\n",
      "Mov_id 355583, ['e56a03400cf40022216450fcd3388d41#201001021330' '38' '0'] have 48169 detections\n",
      "Mov_id 359885, ['e82397fd741a4a189ba3945dc9b04892#201201191020' '39' '1'] have 33457 detections\n",
      "Mov_id 361128, ['e8f5fdfd92a507f358a517e62bd2b014#201106161200' '42' '1'] have 46792 detections\n",
      "Mov_id 363625, ['ea8ecddd9ae19c464abbdde4ef334f37#201011271040' '38' '0'] have 30645 detections\n",
      "Mov_id 366476, ['ec6a5efdb62175431a7312c44a01d7d0#201001020650' '38' '0'] have 32319 detections\n",
      "Mov_id 369685, ['ee87a5b07dad37c97ebf434b582292ae#201001020820' '38' '0'] have 32006 detections\n",
      "Mov_id 374124, ['f15a947a84aa50a821222a65813870bf#201001021400' '38' '0'] have 35704 detections\n",
      "Mov_id 374840, ['f1d4d35732be53ca850b667fc64eb0c8#201106161040' '42' '1'] have 37778 detections\n",
      "Mov_id 379870, ['f4ff462b338c49d259d4762de7ce3731#201107151300' '39' '1'] have 36275 detections\n",
      "Mov_id 383785, ['f77f75a8880a9e7aeb2551518fe30e6e#201001011520' '38' '0'] have 35143 detections\n",
      "Mov_id 384212, ['f7c4911cb3229646f2d33cfee67b290e#201001021420' '38' '0'] have 35154 detections\n",
      "Mov_id 389392, ['fb25e41bb56483f57b5f6458152ca840#201001010730' '38' '0'] have 42279 detections\n",
      "Mov_id 390921, ['fc21c7627904ad4c8c8f90cfcdd9a84b#201111251000' '39' '1'] have 42477 detections\n",
      "Mov_id 391251, ['fc5ceb226abff1081703fbb7cb90cb38#201107150600' '39' '1'] have 32232 detections\n",
      "Empty videos: 8493\n"
     ]
    }
   ],
   "source": [
    "count = 0\n",
    "bad_boys2 = []\n",
    "for i in np.arange(len(movs_length)):\n",
    "    if movs_length[i] > 30000 and movs[i][1] != \"44\" and movs[i][1] != \"46\":\n",
    "        bad_boys2.append(i)\n",
    "        print(\"Mov_id {0}, {1} have {2} detections\".format(i,movs[i],movs_length[i]))\n",
    "    if movs_length[i] == 0:\n",
    "        count += 1\n",
    "print(\"Empty videos: {0}\".format(count))"
   ]
  },
  {
   "cell_type": "code",
   "execution_count": 24,
   "metadata": {},
   "outputs": [
    {
     "name": "stdout",
     "output_type": "stream",
     "text": [
      "247825\n",
      "372011\n",
      "['9fffd09ec0ac425f50e51b48ebda2d49#201009301750' '38' '0']\n",
      "['a0009f70ac48adcaa0214a73c81e778e#201102041210' '39' '0']\n",
      "['effff66914721b606176773648659586#201209230710' '42' '1']\n",
      "['f0000e4e942c88c3e7c6a037a658d6a7#201111231450' '38' '0']\n"
     ]
    }
   ],
   "source": [
    "get = False\n",
    "id1 = 0;\n",
    "id2 = 0;\n",
    "for i, item in enumerate(movs):\n",
    "    if (not get) and (item[0][:1] == \"a\"):\n",
    "        print(i)\n",
    "        id1 = i\n",
    "        get = True\n",
    "    if get and (item[0][:1] == \"f\"):\n",
    "        print(i)\n",
    "        id2 = i\n",
    "        break\n",
    "print(movs[id1-1])\n",
    "print(movs[id1])\n",
    "print(movs[id2-1])\n",
    "print(movs[id2])"
   ]
  },
  {
   "cell_type": "code",
   "execution_count": 4,
   "metadata": {},
   "outputs": [
    {
     "name": "stdout",
     "output_type": "stream",
     "text": [
      "0\n",
      "1584\n",
      "['ffffc4037118c1fb585fd53c76a00f2d#201301121700' '37' '1']\n",
      "['00000857dd49007f4a35abebb90aafe0#201110011530' '39' '0']\n",
      "['00ffed7f2ce433d61a5b11456f2b6d39#201105011730' '40' '1']\n",
      "['0100835177c8464620df5c5821d1ce5d#201106211550' '38' '0']\n"
     ]
    }
   ],
   "source": [
    "get = False\n",
    "id1 = 0;\n",
    "id2 = 0;\n",
    "for i, item in enumerate(movs):\n",
    "    if (not get) and (item[0][:2] == \"00\"):\n",
    "        print(i)\n",
    "        id1 = i\n",
    "        get = True\n",
    "    if get and (item[0][:2] == \"01\"):\n",
    "        print(i)\n",
    "        id2 = i\n",
    "        break\n",
    "print(movs[id1-1])\n",
    "print(movs[id1])\n",
    "print(movs[id2-1])\n",
    "print(movs[id2])"
   ]
  },
  {
   "cell_type": "code",
   "execution_count": 5,
   "metadata": {},
   "outputs": [
    {
     "name": "stdout",
     "output_type": "stream",
     "text": [
      "30598\n",
      "30695\n",
      "['13af5ee11f80194b90df624b724cbfd7#201104041540' '41' '1']\n",
      "['13b002807976fe6baf25398a889cf358#201206121450' '39' '1']\n",
      "['13bf835042ad37aee7333c1cacbba3e9#201012191350' '41' '0']\n",
      "['13c00c732c91d781afc8f24c2e63b372#201002091340' '42' '0']\n"
     ]
    }
   ],
   "source": [
    "get = False\n",
    "id1 = 0;\n",
    "id2 = 0;\n",
    "for i, item in enumerate(movs):\n",
    "    if (not get) and (item[0][:3] == \"13b\"):\n",
    "        print(i)\n",
    "        id1 = i\n",
    "        get = True\n",
    "    if get and (item[0][:3] == \"13c\"):\n",
    "        print(i)\n",
    "        id2 = i\n",
    "        break\n",
    "print(movs[id1-1])\n",
    "print(movs[id1])\n",
    "print(movs[id2-1])\n",
    "print(movs[id2])"
   ]
  },
  {
   "cell_type": "code",
   "execution_count": 6,
   "metadata": {},
   "outputs": [
    {
     "name": "stdout",
     "output_type": "stream",
     "text": [
      "4595\n",
      "8072\n",
      "37094711\n"
     ]
    }
   ],
   "source": [
    "naughty = []\n",
    "for i, mov in enumerate(movs):\n",
    "    hour = int(mov[0][41:43])\n",
    "    month = mov[0][33:39]\n",
    "    if ((hour > 18 or hour < 6) and (mov[1] == \"44\" or mov[1] == \"46\")) or movs_length[i] > 30000:\n",
    "        naughty.append(i)\n",
    "print(len(naughty))\n",
    "print(np.sum(movs_length[naughty])/len(naughty))\n",
    "print(np.sum(movs_length[naughty]))"
   ]
  },
  {
   "cell_type": "code",
   "execution_count": 4,
   "metadata": {},
   "outputs": [
    {
     "name": "stdout",
     "output_type": "stream",
     "text": [
      "10056\n",
      "15226\n",
      "153119563\n"
     ]
    }
   ],
   "source": [
    "naughty = []\n",
    "for i, mov in enumerate(movs):\n",
    "    hour = int(mov[0][41:43])\n",
    "    month = mov[0][33:39]\n",
    "    if movs_length[i] > 10000:\n",
    "        naughty.append(i)\n",
    "print(len(naughty))\n",
    "print(np.sum(movs_length[naughty])/len(naughty))\n",
    "print(np.sum(movs_length[naughty]))"
   ]
  }
 ],
 "metadata": {
  "kernelspec": {
   "display_name": "Python 2",
   "language": "python",
   "name": "python2"
  },
  "language_info": {
   "codemirror_mode": {
    "name": "ipython",
    "version": 2
   },
   "file_extension": ".py",
   "mimetype": "text/x-python",
   "name": "python",
   "nbconvert_exporter": "python",
   "pygments_lexer": "ipython2",
   "version": "2.7.13"
  }
 },
 "nbformat": 4,
 "nbformat_minor": 2
}
